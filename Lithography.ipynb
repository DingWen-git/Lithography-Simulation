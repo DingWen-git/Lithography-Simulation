{
  "nbformat": 4,
  "nbformat_minor": 0,
  "metadata": {
    "kernelspec": {
      "display_name": "Python 3",
      "language": "python",
      "name": "python3"
    },
    "language_info": {
      "codemirror_mode": {
        "name": "ipython",
        "version": 3
      },
      "file_extension": ".py",
      "mimetype": "text/x-python",
      "name": "python",
      "nbconvert_exporter": "python",
      "pygments_lexer": "ipython3",
      "version": "3.8.3"
    },
    "colab": {
      "name": "Lithography.ipynb",
      "provenance": []
    }
  },
  "cells": [
    {
      "cell_type": "code",
      "metadata": {
        "id": "bVSZzEPTvynD",
        "colab_type": "code",
        "colab": {
          "base_uri": "https://localhost:8080/",
          "height": 34
        },
        "outputId": "2fa127dd-905a-48dd-dd8b-057f58a3a7c7"
      },
      "source": [
        "sigma=0.7\n",
        "NA=0.57\n",
        "print(f'NA condensor is {sigma*NA}')"
      ],
      "execution_count": null,
      "outputs": [
        {
          "output_type": "stream",
          "text": [
            "NA condensor is 0.39899999999999997\n"
          ],
          "name": "stdout"
        }
      ]
    },
    {
      "cell_type": "markdown",
      "metadata": {
        "id": "WZoJWlw4vynI",
        "colab_type": "text"
      },
      "source": [
        "# Optical simulation\n",
        "In this notebook we present some insights about lithographic simulation.\n",
        "\n",
        "$\\sigma$ is the condensor lens.\n"
      ]
    },
    {
      "cell_type": "code",
      "metadata": {
        "id": "ErI8CFvJvynI",
        "colab_type": "code",
        "colab": {
          "base_uri": "https://localhost:8080/",
          "height": 265
        },
        "outputId": "783ec025-d1ed-43af-8488-e14377ae4d4d"
      },
      "source": [
        "import numpy as np\n",
        "import matplotlib.pyplot as plt\n",
        "\n",
        "x=np.linspace(0,100,250)\n",
        "function=np.sqrt(x)\n",
        "plt.plot(x,function)\n",
        "plt.show()"
      ],
      "execution_count": null,
      "outputs": [
        {
          "output_type": "display_data",
          "data": {
            "image/png": "[encoded data removed]",
            "text/plain": [
              "<Figure size 432x288 with 1 Axes>"
            ]
          },
          "metadata": {
            "tags": [],
            "needs_background": "light"
          }
        }
      ]
    },
    {
      "cell_type": "markdown",
      "metadata": {
        "id": "hdIuvW-OvynL",
        "colab_type": "text"
      },
      "source": [
        "$$\\tilde{H}(f,g)=\\text{circ}\\left(\\frac{\\sqrt{f^2+g^2}}{\\frac{\\text{NA}}{\\lambda}}\\right) $$"
      ]
    },
    {
      "cell_type": "markdown",
      "metadata": {
        "id": "DEMqi3mPvynL",
        "colab_type": "text"
      },
      "source": [
        "## Aerial image formulation\n",
        "\n",
        "In the case of Fourier Optics and Scalar diffraction theory we can write the intensity as :"
      ]
    },
    {
      "cell_type": "markdown",
      "metadata": {
        "id": "jEk3LHfuvynM",
        "colab_type": "text"
      },
      "source": [
        "$$I(x,y)=\\idotsint_{\\infty}^{-\\infty} \\tilde{J}(f,g)\\tilde{H}(f+f',g+g')\\tilde{H}^*(f+f'',g+g'')\\tilde{O}(f',g')\\tilde{O}(f'',g'') \\\\ \n",
        "\te^{-2i\\pi[(f'-f'')x+(g'-g'')y]}dfdgdf'dg'df''dg''$$"
      ]
    },
    {
      "cell_type": "markdown",
      "metadata": {
        "id": "E1SMpDqLwMRR",
        "colab_type": "text"
      },
      "source": [
        "##Hopkins formulation\n",
        "Hopkins proposed another integration order:"
      ]
    },
    {
      "cell_type": "markdown",
      "metadata": {
        "id": "YYssMRwGwCQE",
        "colab_type": "text"
      },
      "source": [
        "$$I(x,y)=\\iiiint_{\\infty}^{-\\infty}TCC(f',g';f'',g'')\\tilde{O}(f',g')\\tilde{O}^{*}(f'',g'')e^{-2i\\pi[(f'-f'')x+(g'-g'')y]}df'dg'df''dg''$$"
      ]
    }
  ]
}