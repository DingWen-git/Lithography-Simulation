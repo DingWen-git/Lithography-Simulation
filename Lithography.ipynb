{
 "cells": [
  {
   "cell_type": "code",
   "execution_count": 8,
   "metadata": {},
   "outputs": [
    {
     "name": "stdout",
     "output_type": "stream",
     "text": [
      "NA condensor is 0.39899999999999997\n"
     ]
    }
   ],
   "source": [
    "sigma=0.7\n",
    "NA=0.57\n",
    "print(f'NA condensor is {sigma*NA}')"
   ]
  },
  {
   "cell_type": "markdown",
   "metadata": {},
   "source": [
    "# Optical simulation\n",
    "In this notebook we present some insights about the optical aspect of lithography simulation\n",
    "\n",
    "## Source\n",
    "\n",
    "The sources illuminates the mask.\n",
    "\n"
   ]
  },
  {
   "cell_type": "markdown",
   "metadata": {},
   "source": [
    "<img src=\"img/hemisphere_target.png\" width=500>"
   ]
  },
  {
   "cell_type": "code",
   "execution_count": null,
   "metadata": {},
   "outputs": [],
   "source": [
    "import numpy as np\n",
    "import matplotlib.pyplot as plt\n",
    "\n",
    "x=np.linspace(0,100,250)\n",
    "function=np.sqrt(x)\n",
    "plt.plot(x,function)\n",
    "plt.show()"
   ]
  },
  {
   "cell_type": "markdown",
   "metadata": {},
   "source": [
    "$$\\tilde{H}(f,g)=\\text{circ}\\left(\\frac{\\sqrt{f^2+g^2}}{\\frac{\\text{NA}}{\\lambda}}\\right) $$"
   ]
  },
  {
   "cell_type": "markdown",
   "metadata": {},
   "source": [
    "# Aerial image formulation\n",
    "\n",
    "In the case of Fourier Optics and Scalar diffraction theory we can write the intensity as :"
   ]
  },
  {
   "cell_type": "markdown",
   "metadata": {},
   "source": [
    "$$I(x,y)=\\idotsint_{\\infty}^{-\\infty} \\tilde{J}(f,g)\\tilde{H}(f+f',g+g')\\tilde{H}^*(f+f'',g+g'')\\tilde{O}(f',g')\\tilde{O}(f'',g'') \\\\ \n",
    "\te^{-2i\\pi[(f'-f'')x+(g'-g'')y]}dfdgdf'dg'df''dg''$$"
   ]
  },
  {
   "cell_type": "markdown",
   "metadata": {},
   "source": [
    "## Hopkins formulation\n",
    "By changing the integration variables Hopkins proposed a different integration:"
   ]
  },
  {
   "cell_type": "markdown",
   "metadata": {},
   "source": [
    "$$I(x,y)=\\iiiint_{\\infty}^{-\\infty}TCC(f',g';f'',g'')\\tilde{O}(f',g')\\tilde{O}^{*}(f'',g'')e^{-2i\\pi[(f'-f'')x+(g'-g'')y]}df'dg'df''dg''$$"
   ]
  },
  {
   "cell_type": "markdown",
   "metadata": {},
   "source": []
  }
 ],
 "metadata": {
  "kernelspec": {
   "display_name": "Python 3",
   "language": "python",
   "name": "python3"
  },
  "language_info": {
   "codemirror_mode": {
    "name": "ipython",
    "version": 3
   },
   "file_extension": ".py",
   "mimetype": "text/x-python",
   "name": "python",
   "nbconvert_exporter": "python",
   "pygments_lexer": "ipython3",
   "version": "3.8.3"
  }
 },
 "nbformat": 4,
 "nbformat_minor": 4
}
